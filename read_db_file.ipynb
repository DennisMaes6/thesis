{
 "cells": [
  {
   "cell_type": "code",
   "execution_count": 46,
   "id": "cb5d8979-c1f2-493e-bfaf-a06943a2e152",
   "metadata": {},
   "outputs": [],
   "source": [
    "import sqlite3\n",
    "import os\n",
    "import openpyxl as px\n",
    "import numpy as np"
   ]
  },
  {
   "cell_type": "code",
   "execution_count": 65,
   "id": "d759d770-c300-40f8-a870-f0cffe0060fa",
   "metadata": {},
   "outputs": [],
   "source": [
    "# CONSTANTS\n",
    "TOP = \"G7\"\n",
    "LM = \"G8\"\n",
    "MM = \"H8\"\n",
    "RM = \"I8\"\n",
    "LO = \"G9\"\n",
    "MO = \"H9\"\n",
    "RO = \"I9\"\n",
    "LLO = \"G10\"\n",
    "LRO = \"H10\"\n",
    "MLO = \"I10\"\n",
    "MRO = \"J10\"\n",
    "RLO = \"K10\"\n",
    "RRO = \"L10\"\n",
    "\n",
    "\n",
    "jar_file = \"\\\"/Users/dennismaes/Library/Mobile Documents/com~apple~CloudDocs/School/2021-2022/Thesis/applicatie/thesis/target/scheduler-1.0.0.jar:/Users/dennismaes/.m2/repository/org/xerial/sqlite-jdbc/3.34.0/sqlite-jdbc-3.34.0.jar:/Users/dennismaes/.m2/repository/org/javatuples/javatuples/1.2/javatuples-1.2.jar\\\"\""
   ]
  },
  {
   "cell_type": "code",
   "execution_count": 2,
   "id": "9494f946-c673-4695-a140-2857be286010",
   "metadata": {},
   "outputs": [
    {
     "data": {
      "text/plain": [
       "'\"/Users/dennismaes/Library/Mobile\\\\ Documents/com~apple~CloudDocs/School/2021-2022/Thesis/applicatie/scheduler/backend/demo.db\"'"
      ]
     },
     "execution_count": 2,
     "metadata": {},
     "output_type": "execute_result"
    }
   ],
   "source": [
    "db_path = \"\\\"/Users/dennismaes/Library/Mobile\\ Documents/com~apple~CloudDocs/School/2021-2022/Thesis/applicatie/scheduler/backend/demo.db\\\"\"\n",
    "db_path"
   ]
  },
  {
   "cell_type": "code",
   "execution_count": 3,
   "id": "edd30e73-4679-4c0c-9ec3-507c0c7d5b19",
   "metadata": {},
   "outputs": [],
   "source": [
    "rpath = \"../scheduler/backend/demo.db\""
   ]
  },
  {
   "cell_type": "code",
   "execution_count": 28,
   "id": "e2a8e245-27f5-47c7-99c5-d41e96a7de21",
   "metadata": {},
   "outputs": [],
   "source": [
    "conn = sqlite3.connect(rpath)"
   ]
  },
  {
   "cell_type": "code",
   "execution_count": 29,
   "id": "49b8f52d-0e18-47f2-988f-cab44ccd3d6b",
   "metadata": {},
   "outputs": [],
   "source": [
    "cur = conn.cursor()"
   ]
  },
  {
   "cell_type": "code",
   "execution_count": 90,
   "id": "ee4d1513-8358-41ef-9daa-956b053eac6f",
   "metadata": {},
   "outputs": [],
   "source": [
    "RESULTS_FILE= \"results_tests.xlsx\"\n",
    "\n",
    "\n",
    "wknd_shifts = [\"JAWE\", \"SAWE\", \"TPWE\"]\n",
    "week_shifts = [\"CALL\", \"JANW\", \"SAEW\", \"JAEV\"]\n",
    "\n",
    "WL = dict()\n",
    "for sh in wknd_shifts:\n",
    "    WL[sh] = 1.5\n",
    "for sh in week_shifts:\n",
    "    WL[sh] = 1\n",
    "\n",
    "    \n",
    "def parse_excel_input(ws):\n",
    "    return ws[TOP].value, ws[LM].value, ws[MM].value, ws[RM].value, ws[LO].value, ws[MO].value, ws[RO].value, ws[LLO].value, ws[LRO].value, ws[MLO].value, ws[MRO].value, ws[RLO].value, ws[RRO].value\n",
    "    \n",
    "    \n",
    "def write_to_excel(results_dict):\n",
    "    wb = px.load_workbook(RESULTS_FILE)\n",
    "    print(wb.worksheets)\n",
    "    wb.create_sheet(index=len(wb.sheetnames), title=\"results \"+  str(len(wb.worksheets)))\n",
    "    ws = wb[\"results \"+  str(len(wb.worksheets) -1)]\n",
    "    ws[\"C2\"] = \"Times < 12 rest days\"\n",
    "    ws[\"D2\"] = \"Total WL\"\n",
    "    row = 3\n",
    "    for x in results_dict.keys():\n",
    "        ws[\"B\" + str(row)] = x\n",
    "        ws[\"C\" + str(row)] = results_dict[x][0]\n",
    "        ws[\"D\" + str(row)] = results_dict[x][1]\n",
    "        row += 1\n",
    "    \n",
    "    ws[\"B\" + str(row + 1)] = \"TOTAL\"\n",
    "    ws[\"C\" + str(row + 1)] = get_sum(results)\n",
    "    ws[\"D\" + str(row + 1)] = get_fair(results)\n",
    "    \n",
    "    ws[\"B\" + str(row + 2)] = \"STD DEV\"\n",
    "    ws[\"D\" + str(row + 2)] = get_std(results)\n",
    "    \n",
    "    wb.save(RESULTS_FILE)\n",
    "    \n",
    "def write_to_excel_ws(results_dict, wb, ws):\n",
    "    ws[\"C2\"] = \"Times < 12 rest days\"\n",
    "    ws[\"D2\"] = \"Total WL\"\n",
    "    row = 3\n",
    "    for x in results_dict.keys():\n",
    "        ws[\"B\" + str(row)] = x\n",
    "        ws[\"C\" + str(row)] = results_dict[x][0]\n",
    "        ws[\"D\" + str(row)] = results_dict[x][1]\n",
    "        row += 1\n",
    "    \n",
    "    ws[\"B\" + str(row + 1)] = \"TOTAL\"\n",
    "    ws[\"C\" + str(row + 1)] = get_sum(results)\n",
    "    ws[\"D\" + str(row + 1)] = get_fair(results)\n",
    "    \n",
    "    ws[\"B\" + str(row + 2)] = \"STD DEV\"\n",
    "    ws[\"D\" + str(row + 2)] = get_std(results)\n",
    "    \n",
    "    wb.save(RESULTS_FILE)\n",
    "    \n",
    "def get_nb_times_rest_less_than(assignments, min_bal=12):\n",
    "    first_shift = True\n",
    "    counter = 0\n",
    "    total = 0\n",
    "    for ass in assignments:\n",
    "        if ass == \"FREE\":\n",
    "            if not first_shift:\n",
    "                counter += 1\n",
    "        else:\n",
    "            if not first_shift:\n",
    "                if counter < min_bal and counter > 0:\n",
    "                    total += 1\n",
    "            else: \n",
    "                first_shift = False\n",
    "            \n",
    "            counter = 0\n",
    "    return total\n",
    "\n",
    "def get_total_wl(assignments):\n",
    "    wl = 0.0\n",
    "    for sh in [x for x in str(assignments).replace(\"[\",\"\").replace(\"]\", \"\").replace(\",\",\"\").replace('FREE', \"|\").split(\"|\") if x != \"\\'\" and x != \"\\' \\'\"]:\n",
    "        wl += WL[sh.split(\" \")[1].replace(\"\\'\", \"\")]\n",
    "    return wl\n",
    "\n",
    "def get_std(results):\n",
    "    return np.std([results[x][1] for x in results.keys()])\n",
    "\n",
    "\n",
    "def get_sum(results):\n",
    "    return np.sum([results[x][0] for x in results.keys() ])\n",
    "\n",
    "def get_fair(results):\n",
    "    return max([results[x][1] for x in results.keys()]) - min([results[x][1] for x in results.keys()])"
   ]
  },
  {
   "cell_type": "code",
   "execution_count": 105,
   "id": "2e844f00-0f8f-458d-a45b-ebca4bcb9411",
   "metadata": {},
   "outputs": [],
   "source": [
    "def read_results(filename):\n",
    "    with open(filename, 'r') as f:\n",
    "        print(f.readlines()[-1])\n",
    "\n",
    "\n",
    "def run_script():\n",
    "    wb = px.load_workbook(RESULTS_FILE)\n",
    "    for sh_n in wb.sheetnames:\n",
    "        ws = wb[sh_n]\n",
    "        input_data = parse_excel_input(ws)\n",
    "        \n",
    "        run_string = \"java -cp \" + jar_file + \" Main\"\n",
    "        for x in input_data:\n",
    "            run_string += \" {}\".format(x)\n",
    "        \n",
    "        #run_string += \" > tmp.txt\"\n",
    "        \n",
    "        os.system(run_string)\n",
    "        \n",
    "        schedule_entries = []\n",
    "        for row in cur.execute('''SELECT assistant_id, day_nb, shift_type FROM assignment'''):\n",
    "            schedule_entries.append(row)\n",
    "\n",
    "        assistant_entries = dict()\n",
    "        for row in cur.execute('''SELECT id, name FROM assistant'''):\n",
    "            assistant_entries[row[0]] = row[1].strip()\n",
    "        \n",
    "        results = dict()\n",
    "        for as_id in list(assistant_entries.keys()):\n",
    "            current_assignments = [x for x in schedule_entries if x[0] == as_id]\n",
    "            current_name = assistant_entries[as_id]\n",
    "            shifts = [ x[2] for x in current_assignments]\n",
    "            i = 0\n",
    "            free_cnt = 0\n",
    "            while i < len(shifts):\n",
    "                if shifts[i] == 'FREE':\n",
    "                    free_cnt += 1\n",
    "                else:\n",
    "                    if free_cnt == 2:\n",
    "                        shifts[i-2] = 'JAEV'\n",
    "                        shifts[i-1] = 'JAEV'\n",
    "                    free_cnt = 0\n",
    "                i += 1\n",
    "\n",
    "            results[current_name] = (get_nb_times_rest_less_than(shifts), get_total_wl(shifts))\n",
    "        write_to_excel_ws(results, wb, ws)\n",
    "        #read_results(\"tmp.txt\")"
   ]
  },
  {
   "cell_type": "code",
   "execution_count": 106,
   "id": "6ee66471-ca82-49e0-8a84-71622b21aeec",
   "metadata": {},
   "outputs": [],
   "source": [
    "run_script()"
   ]
  },
  {
   "cell_type": "code",
   "execution_count": 114,
   "id": "8d60346b-b826-496f-b2e3-86eac36e7ff9",
   "metadata": {},
   "outputs": [
    {
     "name": "stdout",
     "output_type": "stream",
     "text": [
      "/Users/dennismaes/Library/Mobile Documents/com~apple~CloudDocs/School/2021-2022/Thesis/applicatie/thesis\n"
     ]
    },
    {
     "data": {
      "text/plain": [
       "'do  3 mrt 2022 08:10:30 CET\\n'"
      ]
     },
     "execution_count": 114,
     "metadata": {},
     "output_type": "execute_result"
    }
   ],
   "source": [
    "print(os.getcwd())\n"
   ]
  },
  {
   "cell_type": "code",
   "execution_count": 58,
   "id": "1ca6e890-a035-46b3-abfc-9d2dc4cbf5a1",
   "metadata": {},
   "outputs": [
    {
     "data": {
      "text/plain": [
       "{24: 'Test JA 1',\n",
       " 25: 'Test JAF 1',\n",
       " 26: 'Test JA 2',\n",
       " 27: 'Test JA 3',\n",
       " 28: 'Test JA 4',\n",
       " 29: 'Test JAF 2',\n",
       " 30: 'Test JAF 3',\n",
       " 31: 'Test SA 1',\n",
       " 32: 'Test SA 2',\n",
       " 33: 'Test SA 3',\n",
       " 34: 'Test SAF 1',\n",
       " 35: 'Test SAF 2',\n",
       " 36: 'Test SAN 1',\n",
       " 37: 'Test SAN 2',\n",
       " 38: 'Test SAN 3',\n",
       " 39: 'Test SAN 4',\n",
       " 40: 'Test SAN 5',\n",
       " 41: 'Test SAFN 1',\n",
       " 42: 'Test SAFN 2',\n",
       " 43: 'Test JA 5',\n",
       " 44: 'Test JA 6',\n",
       " 45: 'Test JA 7',\n",
       " 46: 'Test JAF  4',\n",
       " 47: 'Test SA 4',\n",
       " 48: 'Test SA  5',\n",
       " 49: 'Test SAF 3',\n",
       " 50: 'Test SAN  6',\n",
       " 51: 'Test SAN  7',\n",
       " 52: 'Test SAFN 3',\n",
       " 53: 'Test JA 8',\n",
       " 54: 'Test JAF 5',\n",
       " 55: 'Test SA 6',\n",
       " 56: 'Test SAF 4',\n",
       " 57: 'Test SAN 8',\n",
       " 58: 'Test SAFN 4',\n",
       " 59: 'Test JA 9',\n",
       " 60: 'Test JA 10',\n",
       " 61: 'Test SAFN 5',\n",
       " 62: 'Test JAF 6',\n",
       " 63: 'Test JA 11'}"
      ]
     },
     "execution_count": 58,
     "metadata": {},
     "output_type": "execute_result"
    }
   ],
   "source": [
    "schedule_entries = []\n",
    "for row in cur.execute('''SELECT assistant_id, day_nb, shift_type FROM assignment'''):\n",
    "    schedule_entries.append(row)\n",
    "    \n",
    "assistant_entries = dict()\n",
    "for row in cur.execute('''SELECT id, name FROM assistant'''):\n",
    "    assistant_entries[row[0]] = row[1].strip()\n",
    "assistant_entries"
   ]
  },
  {
   "cell_type": "code",
   "execution_count": 59,
   "id": "18a6b600-dc20-4263-ba37-0045e622880f",
   "metadata": {},
   "outputs": [
    {
     "data": {
      "text/plain": [
       "{'Test JA 1': (1, 7.0),\n",
       " 'Test JAF 1': (0, 7.5),\n",
       " 'Test JA 2': (0, 7.5),\n",
       " 'Test JA 3': (1, 7.5),\n",
       " 'Test JA 4': (0, 8.0),\n",
       " 'Test JAF 2': (0, 7.5),\n",
       " 'Test JAF 3': (0, 7.5),\n",
       " 'Test SA 1': (2, 8.0),\n",
       " 'Test SA 2': (0, 8.0),\n",
       " 'Test SA 3': (1, 8.0),\n",
       " 'Test SAF 1': (0, 7.5),\n",
       " 'Test SAF 2': (0, 7.5),\n",
       " 'Test SAN 1': (1, 7.0),\n",
       " 'Test SAN 2': (0, 7.5),\n",
       " 'Test SAN 3': (1, 7.0),\n",
       " 'Test SAN 4': (0, 7.0),\n",
       " 'Test SAN 5': (1, 7.5),\n",
       " 'Test SAFN 1': (0, 7.0),\n",
       " 'Test SAFN 2': (0, 7.5),\n",
       " 'Test JA 5': (0, 7.5),\n",
       " 'Test JA 6': (0, 7.0),\n",
       " 'Test JA 7': (0, 7.0),\n",
       " 'Test JAF  4': (0, 7.5),\n",
       " 'Test SA 4': (0, 7.5),\n",
       " 'Test SA  5': (1, 7.0),\n",
       " 'Test SAF 3': (0, 8.0),\n",
       " 'Test SAN  6': (0, 7.0),\n",
       " 'Test SAN  7': (0, 7.0),\n",
       " 'Test SAFN 3': (0, 8.0),\n",
       " 'Test JA 8': (1, 8.0),\n",
       " 'Test JAF 5': (0, 7.5),\n",
       " 'Test SA 6': (1, 7.0),\n",
       " 'Test SAF 4': (0, 7.0),\n",
       " 'Test SAN 8': (1, 7.5),\n",
       " 'Test SAFN 4': (0, 7.5),\n",
       " 'Test JA 9': (2, 7.5),\n",
       " 'Test JA 10': (0, 8.0),\n",
       " 'Test SAFN 5': (0, 7.5),\n",
       " 'Test JAF 6': (0, 7.5),\n",
       " 'Test JA 11': (0, 7.0)}"
      ]
     },
     "execution_count": 59,
     "metadata": {},
     "output_type": "execute_result"
    }
   ],
   "source": [
    "results = dict()\n",
    "for as_id in list(assistant_entries.keys()):\n",
    "    current_assignments = [x for x in schedule_entries if x[0] == as_id]\n",
    "    current_name = assistant_entries[as_id]\n",
    "    shifts = [ x[2] for x in current_assignments]\n",
    "    i = 0\n",
    "    free_cnt = 0\n",
    "    while i < len(shifts):\n",
    "        if shifts[i] == 'FREE':\n",
    "            free_cnt += 1\n",
    "        else:\n",
    "            if free_cnt == 2:\n",
    "                shifts[i-2] = 'JAEV'\n",
    "                shifts[i-1] = 'JAEV'\n",
    "            free_cnt = 0\n",
    "        i += 1\n",
    "            \n",
    "    results[current_name] = (get_nb_times_rest_less_than(shifts), get_total_wl(shifts))\n",
    "    \n",
    "results"
   ]
  },
  {
   "cell_type": "code",
   "execution_count": 60,
   "id": "1dc357ad-d2c5-43c3-a4be-0ef1c08cd076",
   "metadata": {},
   "outputs": [
    {
     "name": "stdout",
     "output_type": "stream",
     "text": [
      "[<Worksheet \"Blad1\">, <Worksheet \"results 1\">, <Worksheet \"results 2\">, <Worksheet \"results 3\">]\n"
     ]
    },
    {
     "ename": "AttributeError",
     "evalue": "Style objects are immutable and cannot be changed.Reassign the style with a copy",
     "output_type": "error",
     "traceback": [
      "\u001b[0;31m---------------------------------------------------------------------------\u001b[0m",
      "\u001b[0;31mAttributeError\u001b[0m                            Traceback (most recent call last)",
      "\u001b[0;32m<ipython-input-60-f5bedcb7a486>\u001b[0m in \u001b[0;36m<module>\u001b[0;34m\u001b[0m\n\u001b[0;32m----> 1\u001b[0;31m \u001b[0mwrite_to_excel\u001b[0m\u001b[0;34m(\u001b[0m\u001b[0mresults\u001b[0m\u001b[0;34m)\u001b[0m\u001b[0;34m\u001b[0m\u001b[0;34m\u001b[0m\u001b[0m\n\u001b[0m",
      "\u001b[0;32m<ipython-input-57-cbdeaad731f1>\u001b[0m in \u001b[0;36mwrite_to_excel\u001b[0;34m(results_dict)\u001b[0m\n\u001b[1;32m     27\u001b[0m     \u001b[0mtotal\u001b[0m \u001b[0;34m=\u001b[0m \u001b[0mws\u001b[0m\u001b[0;34m[\u001b[0m\u001b[0;34m\"B\"\u001b[0m \u001b[0;34m+\u001b[0m \u001b[0mstr\u001b[0m\u001b[0;34m(\u001b[0m\u001b[0mrow\u001b[0m \u001b[0;34m+\u001b[0m \u001b[0;36m1\u001b[0m\u001b[0;34m)\u001b[0m\u001b[0;34m]\u001b[0m\u001b[0;34m\u001b[0m\u001b[0;34m\u001b[0m\u001b[0m\n\u001b[1;32m     28\u001b[0m \u001b[0;34m\u001b[0m\u001b[0m\n\u001b[0;32m---> 29\u001b[0;31m     \u001b[0mtotal\u001b[0m\u001b[0;34m.\u001b[0m\u001b[0mfont\u001b[0m\u001b[0;34m.\u001b[0m\u001b[0mbold\u001b[0m \u001b[0;34m=\u001b[0m \u001b[0;32mTrue\u001b[0m\u001b[0;34m\u001b[0m\u001b[0;34m\u001b[0m\u001b[0m\n\u001b[0m\u001b[1;32m     30\u001b[0m     \u001b[0mws\u001b[0m\u001b[0;34m[\u001b[0m\u001b[0;34m\"B\"\u001b[0m \u001b[0;34m+\u001b[0m \u001b[0mstr\u001b[0m\u001b[0;34m(\u001b[0m\u001b[0mrow\u001b[0m \u001b[0;34m+\u001b[0m \u001b[0;36m1\u001b[0m\u001b[0;34m)\u001b[0m\u001b[0;34m]\u001b[0m \u001b[0;34m=\u001b[0m \u001b[0;34m\"TOTAL\"\u001b[0m\u001b[0;34m\u001b[0m\u001b[0;34m\u001b[0m\u001b[0m\n\u001b[1;32m     31\u001b[0m     \u001b[0mwb\u001b[0m\u001b[0;34m.\u001b[0m\u001b[0msave\u001b[0m\u001b[0;34m(\u001b[0m\u001b[0mRESULTS_FILE\u001b[0m\u001b[0;34m)\u001b[0m\u001b[0;34m\u001b[0m\u001b[0;34m\u001b[0m\u001b[0m\n",
      "\u001b[0;32m~/opt/miniconda3/lib/python3.9/site-packages/openpyxl/styles/proxy.py\u001b[0m in \u001b[0;36m__setattr__\u001b[0;34m(self, attr, value)\u001b[0m\n\u001b[1;32m     27\u001b[0m     \u001b[0;32mdef\u001b[0m \u001b[0m__setattr__\u001b[0m\u001b[0;34m(\u001b[0m\u001b[0mself\u001b[0m\u001b[0;34m,\u001b[0m \u001b[0mattr\u001b[0m\u001b[0;34m,\u001b[0m \u001b[0mvalue\u001b[0m\u001b[0;34m)\u001b[0m\u001b[0;34m:\u001b[0m\u001b[0;34m\u001b[0m\u001b[0;34m\u001b[0m\u001b[0m\n\u001b[1;32m     28\u001b[0m         \u001b[0;32mif\u001b[0m \u001b[0mattr\u001b[0m \u001b[0;34m!=\u001b[0m \u001b[0;34m\"_StyleProxy__target\"\u001b[0m\u001b[0;34m:\u001b[0m\u001b[0;34m\u001b[0m\u001b[0;34m\u001b[0m\u001b[0m\n\u001b[0;32m---> 29\u001b[0;31m             raise AttributeError(\"Style objects are immutable and cannot be changed.\"\n\u001b[0m\u001b[1;32m     30\u001b[0m                                  \"Reassign the style with a copy\")\n\u001b[1;32m     31\u001b[0m         \u001b[0msuper\u001b[0m\u001b[0;34m(\u001b[0m\u001b[0mStyleProxy\u001b[0m\u001b[0;34m,\u001b[0m \u001b[0mself\u001b[0m\u001b[0;34m)\u001b[0m\u001b[0;34m.\u001b[0m\u001b[0m__setattr__\u001b[0m\u001b[0;34m(\u001b[0m\u001b[0mattr\u001b[0m\u001b[0;34m,\u001b[0m \u001b[0mvalue\u001b[0m\u001b[0;34m)\u001b[0m\u001b[0;34m\u001b[0m\u001b[0;34m\u001b[0m\u001b[0m\n",
      "\u001b[0;31mAttributeError\u001b[0m: Style objects are immutable and cannot be changed.Reassign the style with a copy"
     ]
    }
   ],
   "source": [
    "write_to_excel(results)"
   ]
  },
  {
   "cell_type": "code",
   "execution_count": 51,
   "id": "615cfb2b-adbb-488e-863c-52036f0d6cb0",
   "metadata": {},
   "outputs": [
    {
     "data": {
      "text/plain": [
       "14"
      ]
     },
     "execution_count": 51,
     "metadata": {},
     "output_type": "execute_result"
    }
   ],
   "source": []
  },
  {
   "cell_type": "code",
   "execution_count": null,
   "id": "612574ce-ef6f-449f-8c44-413dbe7a3113",
   "metadata": {},
   "outputs": [],
   "source": []
  }
 ],
 "metadata": {
  "kernelspec": {
   "display_name": "Python 3",
   "language": "python",
   "name": "python3"
  },
  "language_info": {
   "codemirror_mode": {
    "name": "ipython",
    "version": 3
   },
   "file_extension": ".py",
   "mimetype": "text/x-python",
   "name": "python",
   "nbconvert_exporter": "python",
   "pygments_lexer": "ipython3",
   "version": "3.9.5"
  }
 },
 "nbformat": 4,
 "nbformat_minor": 5
}
