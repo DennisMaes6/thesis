{
 "cells": [
  {
   "cell_type": "code",
   "execution_count": 1,
   "id": "177f5703-8aa5-4997-a5f8-06a4543471ab",
   "metadata": {},
   "outputs": [],
   "source": [
    "import os\n",
    "import genetic_script as gs\n",
    "import seaborn as sns\n",
    "import matplotlib.pyplot as plt\n",
    "import math\n",
    "import pandas as pd"
   ]
  },
  {
   "cell_type": "code",
   "execution_count": 2,
   "id": "a26bd514-f531-4b95-b56c-e60c73a5a104",
   "metadata": {},
   "outputs": [],
   "source": [
    "def get_file_from_params(itrs, parents, best, cr, mr, wcov=1, wbal=1, wfair=1, wstr=1, wspr=1):\n",
    "    result = \"./test_results/\" + str(itrs) + \"_\" + str(parents) + \"_\" + str(best) + \"_\" + str(cr) + \"_\" + str(mr) + \"_\" + str(wcov) + \"_\" + str(wbal) + \"_\" + str(wfair) + \"_\" + str(wstr) + \"_\" + str(wspr) + \".txt\"\n",
    "    return result\n",
    "\n",
    "def get_best_values(dfs, compare_stat=\"best\"):\n",
    "    result = list()\n",
    "    for df in dfs:\n",
    "        result.append(min(df[compare_stat]))\n",
    "    return result\n",
    "\n",
    "\n",
    "def get_last_values(filename):\n",
    "    with open(filename, 'r') as f:\n",
    "        line = f.readlines()[-2]\n",
    "        splitted = line.split(\"|\")\n",
    "        best = float(splitted[0].split(\":\")[1])\n",
    "        cov = float(splitted[1].split(\":\")[1])\n",
    "        bal = float(splitted[2].split(\":\")[1])\n",
    "        fair = float(splitted[3].split(\":\")[1])\n",
    "        avg = float(splitted[4].split(\":\")[1])\n",
    "\n",
    "        return best, cov, bal, fair, avg\n",
    "\n",
    "def get_time(filename):\n",
    "    with open(filename, 'r') as f:\n",
    "        return f.readlines()[-1]"
   ]
  },
  {
   "cell_type": "code",
   "execution_count": 3,
   "id": "c1632a5d-40da-44a3-a78a-e7ecff36a0e6",
   "metadata": {},
   "outputs": [],
   "source": [
    "directory_name = \"./test_results/\"\n",
    "directory = os.fsencode(directory_name)"
   ]
  },
  {
   "cell_type": "code",
   "execution_count": 66,
   "id": "9473bd51-9847-473e-b148-b59b5519c48e",
   "metadata": {},
   "outputs": [],
   "source": [
    "def parse_dir(d):\n",
    "    \n",
    "    df = pd.DataFrame()\n",
    "    \n",
    "    iters = []\n",
    "    parents = []\n",
    "    best = []\n",
    "    crs = []\n",
    "    mrs = []\n",
    "    w_covs = []\n",
    "    w_bals = []\n",
    "    w_fairs = []\n",
    "    w_streaks = []\n",
    "    w_spreads = []\n",
    "    \n",
    "    best_penalty = []\n",
    "    cov_penalty = []\n",
    "    bal_penalty = []\n",
    "    fair_penalty = []\n",
    "    avg_penalty = []\n",
    "    times = []\n",
    "    \n",
    "    convergences = []\n",
    "    \n",
    "    directory = os.fsencode(d)\n",
    "    for file in os.listdir(directory):\n",
    "        filename = os.fsdecode(file)\n",
    "        \n",
    "        with open(d + filename, \"r\") as f:\n",
    "            if len(f.readlines()) < 2003:\n",
    "                continue\n",
    "                \n",
    "        params = filename[:-4].split(\"_\")\n",
    "        nb_iters = int(params[0])\n",
    "        nb_parents = int(params[1])\n",
    "        nb_best = int(params[2])\n",
    "        cr = float(params[3])\n",
    "        mr = float(params[4])\n",
    "        w_cov = float(params[5])\n",
    "        w_bal = float(params[6])\n",
    "        w_fair = float(params[7])\n",
    "        w_streak = float(params[8])\n",
    "        w_spread = float(params[9])\n",
    "        \n",
    "        iters.append(nb_iters)\n",
    "        parents.append(nb_parents)\n",
    "        best.append(nb_best)\n",
    "        crs.append(cr)\n",
    "        mrs.append(mr)\n",
    "        w_covs.append(w_cov)\n",
    "        w_bals.append(w_bal)\n",
    "        w_fairs.append(w_fair)\n",
    "        w_streaks.append(w_streak)\n",
    "        w_spreads.append(w_spread)\n",
    "        \n",
    "        best_p, cov_p, bal_p, fair_p, avg_p = get_last_values(d + filename)\n",
    "        best_penalty.append(best_p)\n",
    "        cov_penalty.append(cov_p)\n",
    "        bal_penalty.append(bal_p)\n",
    "        fair_penalty.append(fair_p)\n",
    "        avg_penalty.append(avg_p)\n",
    "        \n",
    "        times.append(float(get_time(d + filename)))\n",
    "        \n",
    "        convergences.append(\n",
    "            get_convergence_best_fitness(\n",
    "                gs.parse_results(get_file_from_params(params[0], params[1],params[2], params[3], params[4]))))\n",
    "        \n",
    "        \n",
    "        \n",
    "    df[\"iterations\"] = iters\n",
    "    df[\"nb_parents\"] = parents\n",
    "    df[\"nb_best\"] = best\n",
    "    df[\"crossover rate\"] = crs\n",
    "    df[\"mutation rate\"] = mrs\n",
    "    df[\"weight coverage\"] = w_covs\n",
    "    df[\"weight balance\"] = w_bals\n",
    "    df[\"weight fairness\"] = w_fairs\n",
    "    df[\"weight streaks\"] = w_streaks\n",
    "    df[\"weight spreads\"] = w_spreads\n",
    "    \n",
    "    df[\"best fitness\"] = best_penalty\n",
    "    df[\"coverage penalty\"] = cov_penalty\n",
    "    df[\"balance penalty\"] = bal_penalty\n",
    "    df[\"fairness penalty\"] = fair_penalty\n",
    "    df[\"average penalty\"] = avg_penalty\n",
    "    df[\"time\"] = times\n",
    "    \n",
    "    df[\"convergence at\"] = convergences\n",
    "    \n",
    "    return df\n",
    "        \n",
    "df = parse_dir(directory_name)    "
   ]
  },
  {
   "cell_type": "code",
   "execution_count": 63,
   "id": "9dcdbc7d-8de9-4a6c-af19-e4f245682a35",
   "metadata": {},
   "outputs": [
    {
     "data": {
      "text/html": [
       "<div>\n",
       "<style scoped>\n",
       "    .dataframe tbody tr th:only-of-type {\n",
       "        vertical-align: middle;\n",
       "    }\n",
       "\n",
       "    .dataframe tbody tr th {\n",
       "        vertical-align: top;\n",
       "    }\n",
       "\n",
       "    .dataframe thead th {\n",
       "        text-align: right;\n",
       "    }\n",
       "</style>\n",
       "<table border=\"1\" class=\"dataframe\">\n",
       "  <thead>\n",
       "    <tr style=\"text-align: right;\">\n",
       "      <th></th>\n",
       "      <th>iterations</th>\n",
       "      <th>nb_parents</th>\n",
       "      <th>nb_best</th>\n",
       "      <th>crossover rate</th>\n",
       "      <th>mutation rate</th>\n",
       "      <th>weight coverage</th>\n",
       "      <th>weight balance</th>\n",
       "      <th>weight fairness</th>\n",
       "      <th>weight streaks</th>\n",
       "      <th>weight spreads</th>\n",
       "      <th>best fitness</th>\n",
       "      <th>coverage penalty</th>\n",
       "      <th>balance penalty</th>\n",
       "      <th>fairness penalty</th>\n",
       "      <th>average penalty</th>\n",
       "      <th>time</th>\n",
       "      <th>convergence at</th>\n",
       "    </tr>\n",
       "  </thead>\n",
       "  <tbody>\n",
       "    <tr>\n",
       "      <th>0</th>\n",
       "      <td>2000</td>\n",
       "      <td>300</td>\n",
       "      <td>30</td>\n",
       "      <td>0.8</td>\n",
       "      <td>0.4</td>\n",
       "      <td>1.0</td>\n",
       "      <td>1.0</td>\n",
       "      <td>1.0</td>\n",
       "      <td>1.0</td>\n",
       "      <td>1.0</td>\n",
       "      <td>29.875000</td>\n",
       "      <td>1.333333</td>\n",
       "      <td>6.333333</td>\n",
       "      <td>1.666667</td>\n",
       "      <td>30.677656</td>\n",
       "      <td>133.887479</td>\n",
       "      <td>131</td>\n",
       "    </tr>\n",
       "    <tr>\n",
       "      <th>1</th>\n",
       "      <td>2000</td>\n",
       "      <td>100</td>\n",
       "      <td>50</td>\n",
       "      <td>0.6</td>\n",
       "      <td>0.4</td>\n",
       "      <td>1.0</td>\n",
       "      <td>1.0</td>\n",
       "      <td>1.0</td>\n",
       "      <td>1.0</td>\n",
       "      <td>1.0</td>\n",
       "      <td>32.291667</td>\n",
       "      <td>1.333333</td>\n",
       "      <td>4.666667</td>\n",
       "      <td>1.000000</td>\n",
       "      <td>33.059167</td>\n",
       "      <td>46.368518</td>\n",
       "      <td>221</td>\n",
       "    </tr>\n",
       "    <tr>\n",
       "      <th>2</th>\n",
       "      <td>2000</td>\n",
       "      <td>200</td>\n",
       "      <td>50</td>\n",
       "      <td>0.6</td>\n",
       "      <td>0.8</td>\n",
       "      <td>1.0</td>\n",
       "      <td>1.0</td>\n",
       "      <td>1.0</td>\n",
       "      <td>1.0</td>\n",
       "      <td>1.0</td>\n",
       "      <td>30.208333</td>\n",
       "      <td>1.333333</td>\n",
       "      <td>4.000000</td>\n",
       "      <td>1.333333</td>\n",
       "      <td>31.708779</td>\n",
       "      <td>93.335375</td>\n",
       "      <td>156</td>\n",
       "    </tr>\n",
       "    <tr>\n",
       "      <th>3</th>\n",
       "      <td>2000</td>\n",
       "      <td>100</td>\n",
       "      <td>25</td>\n",
       "      <td>0.6</td>\n",
       "      <td>0.2</td>\n",
       "      <td>1.0</td>\n",
       "      <td>1.0</td>\n",
       "      <td>1.0</td>\n",
       "      <td>1.0</td>\n",
       "      <td>1.0</td>\n",
       "      <td>32.375000</td>\n",
       "      <td>1.333333</td>\n",
       "      <td>4.666667</td>\n",
       "      <td>1.666667</td>\n",
       "      <td>32.904762</td>\n",
       "      <td>47.273481</td>\n",
       "      <td>394</td>\n",
       "    </tr>\n",
       "    <tr>\n",
       "      <th>4</th>\n",
       "      <td>2000</td>\n",
       "      <td>500</td>\n",
       "      <td>50</td>\n",
       "      <td>0.4</td>\n",
       "      <td>0.2</td>\n",
       "      <td>1.0</td>\n",
       "      <td>1.0</td>\n",
       "      <td>1.0</td>\n",
       "      <td>1.0</td>\n",
       "      <td>1.0</td>\n",
       "      <td>31.083333</td>\n",
       "      <td>0.666667</td>\n",
       "      <td>4.666667</td>\n",
       "      <td>1.666667</td>\n",
       "      <td>31.719056</td>\n",
       "      <td>214.109515</td>\n",
       "      <td>132</td>\n",
       "    </tr>\n",
       "    <tr>\n",
       "      <th>...</th>\n",
       "      <td>...</td>\n",
       "      <td>...</td>\n",
       "      <td>...</td>\n",
       "      <td>...</td>\n",
       "      <td>...</td>\n",
       "      <td>...</td>\n",
       "      <td>...</td>\n",
       "      <td>...</td>\n",
       "      <td>...</td>\n",
       "      <td>...</td>\n",
       "      <td>...</td>\n",
       "      <td>...</td>\n",
       "      <td>...</td>\n",
       "      <td>...</td>\n",
       "      <td>...</td>\n",
       "      <td>...</td>\n",
       "      <td>...</td>\n",
       "    </tr>\n",
       "    <tr>\n",
       "      <th>251</th>\n",
       "      <td>2000</td>\n",
       "      <td>300</td>\n",
       "      <td>225</td>\n",
       "      <td>0.6</td>\n",
       "      <td>0.8</td>\n",
       "      <td>1.0</td>\n",
       "      <td>1.0</td>\n",
       "      <td>1.0</td>\n",
       "      <td>1.0</td>\n",
       "      <td>1.0</td>\n",
       "      <td>26.666667</td>\n",
       "      <td>4.000000</td>\n",
       "      <td>3.333333</td>\n",
       "      <td>1.000000</td>\n",
       "      <td>29.788611</td>\n",
       "      <td>137.133140</td>\n",
       "      <td>335</td>\n",
       "    </tr>\n",
       "    <tr>\n",
       "      <th>252</th>\n",
       "      <td>2000</td>\n",
       "      <td>500</td>\n",
       "      <td>375</td>\n",
       "      <td>0.6</td>\n",
       "      <td>0.8</td>\n",
       "      <td>1.0</td>\n",
       "      <td>1.0</td>\n",
       "      <td>1.0</td>\n",
       "      <td>1.0</td>\n",
       "      <td>1.0</td>\n",
       "      <td>25.708333</td>\n",
       "      <td>6.000000</td>\n",
       "      <td>0.666667</td>\n",
       "      <td>1.166667</td>\n",
       "      <td>28.708417</td>\n",
       "      <td>223.515620</td>\n",
       "      <td>339</td>\n",
       "    </tr>\n",
       "    <tr>\n",
       "      <th>253</th>\n",
       "      <td>2000</td>\n",
       "      <td>500</td>\n",
       "      <td>250</td>\n",
       "      <td>0.2</td>\n",
       "      <td>0.8</td>\n",
       "      <td>1.0</td>\n",
       "      <td>1.0</td>\n",
       "      <td>1.0</td>\n",
       "      <td>1.0</td>\n",
       "      <td>1.0</td>\n",
       "      <td>39.708333</td>\n",
       "      <td>18.333333</td>\n",
       "      <td>4.666667</td>\n",
       "      <td>1.666667</td>\n",
       "      <td>54.527859</td>\n",
       "      <td>231.099655</td>\n",
       "      <td>2000</td>\n",
       "    </tr>\n",
       "    <tr>\n",
       "      <th>254</th>\n",
       "      <td>2000</td>\n",
       "      <td>100</td>\n",
       "      <td>75</td>\n",
       "      <td>0.8</td>\n",
       "      <td>0.2</td>\n",
       "      <td>1.0</td>\n",
       "      <td>1.0</td>\n",
       "      <td>1.0</td>\n",
       "      <td>1.0</td>\n",
       "      <td>1.0</td>\n",
       "      <td>30.583333</td>\n",
       "      <td>0.666667</td>\n",
       "      <td>4.666667</td>\n",
       "      <td>1.333333</td>\n",
       "      <td>31.052917</td>\n",
       "      <td>49.414626</td>\n",
       "      <td>200</td>\n",
       "    </tr>\n",
       "    <tr>\n",
       "      <th>255</th>\n",
       "      <td>2000</td>\n",
       "      <td>200</td>\n",
       "      <td>20</td>\n",
       "      <td>0.4</td>\n",
       "      <td>0.4</td>\n",
       "      <td>1.0</td>\n",
       "      <td>1.0</td>\n",
       "      <td>1.0</td>\n",
       "      <td>1.0</td>\n",
       "      <td>1.0</td>\n",
       "      <td>33.875000</td>\n",
       "      <td>0.666667</td>\n",
       "      <td>6.000000</td>\n",
       "      <td>1.833333</td>\n",
       "      <td>35.355525</td>\n",
       "      <td>85.440829</td>\n",
       "      <td>215</td>\n",
       "    </tr>\n",
       "  </tbody>\n",
       "</table>\n",
       "<p>256 rows × 17 columns</p>\n",
       "</div>"
      ],
      "text/plain": [
       "     iterations  nb_parents  nb_best  crossover rate  mutation rate  \\\n",
       "0          2000         300       30             0.8            0.4   \n",
       "1          2000         100       50             0.6            0.4   \n",
       "2          2000         200       50             0.6            0.8   \n",
       "3          2000         100       25             0.6            0.2   \n",
       "4          2000         500       50             0.4            0.2   \n",
       "..          ...         ...      ...             ...            ...   \n",
       "251        2000         300      225             0.6            0.8   \n",
       "252        2000         500      375             0.6            0.8   \n",
       "253        2000         500      250             0.2            0.8   \n",
       "254        2000         100       75             0.8            0.2   \n",
       "255        2000         200       20             0.4            0.4   \n",
       "\n",
       "     weight coverage  weight balance  weight fairness  weight streaks  \\\n",
       "0                1.0             1.0              1.0             1.0   \n",
       "1                1.0             1.0              1.0             1.0   \n",
       "2                1.0             1.0              1.0             1.0   \n",
       "3                1.0             1.0              1.0             1.0   \n",
       "4                1.0             1.0              1.0             1.0   \n",
       "..               ...             ...              ...             ...   \n",
       "251              1.0             1.0              1.0             1.0   \n",
       "252              1.0             1.0              1.0             1.0   \n",
       "253              1.0             1.0              1.0             1.0   \n",
       "254              1.0             1.0              1.0             1.0   \n",
       "255              1.0             1.0              1.0             1.0   \n",
       "\n",
       "     weight spreads  best fitness  coverage penalty  balance penalty  \\\n",
       "0               1.0     29.875000          1.333333         6.333333   \n",
       "1               1.0     32.291667          1.333333         4.666667   \n",
       "2               1.0     30.208333          1.333333         4.000000   \n",
       "3               1.0     32.375000          1.333333         4.666667   \n",
       "4               1.0     31.083333          0.666667         4.666667   \n",
       "..              ...           ...               ...              ...   \n",
       "251             1.0     26.666667          4.000000         3.333333   \n",
       "252             1.0     25.708333          6.000000         0.666667   \n",
       "253             1.0     39.708333         18.333333         4.666667   \n",
       "254             1.0     30.583333          0.666667         4.666667   \n",
       "255             1.0     33.875000          0.666667         6.000000   \n",
       "\n",
       "     fairness penalty  average penalty        time  convergence at  \n",
       "0            1.666667        30.677656  133.887479             131  \n",
       "1            1.000000        33.059167   46.368518             221  \n",
       "2            1.333333        31.708779   93.335375             156  \n",
       "3            1.666667        32.904762   47.273481             394  \n",
       "4            1.666667        31.719056  214.109515             132  \n",
       "..                ...              ...         ...             ...  \n",
       "251          1.000000        29.788611  137.133140             335  \n",
       "252          1.166667        28.708417  223.515620             339  \n",
       "253          1.666667        54.527859  231.099655            2000  \n",
       "254          1.333333        31.052917   49.414626             200  \n",
       "255          1.833333        35.355525   85.440829             215  \n",
       "\n",
       "[256 rows x 17 columns]"
      ]
     },
     "execution_count": 63,
     "metadata": {},
     "output_type": "execute_result"
    }
   ],
   "source": [
    "df"
   ]
  },
  {
   "cell_type": "code",
   "execution_count": 6,
   "id": "459ad9f0-211c-4cfd-84e5-fd4b603fbfe0",
   "metadata": {},
   "outputs": [],
   "source": [
    "least_time = df.iloc[df[\"time\"].idxmin()]\n",
    "most_time = df.iloc[df[\"time\"].idxmax()]"
   ]
  },
  {
   "cell_type": "code",
   "execution_count": 7,
   "id": "8e3baf37-75f5-445a-bf82-5fa2b3d1019a",
   "metadata": {},
   "outputs": [
    {
     "data": {
      "text/plain": [
       "iterations           2000.000000\n",
       "nb_parents            500.000000\n",
       "nb_best               375.000000\n",
       "crossover rate          0.200000\n",
       "mutation rate           0.800000\n",
       "weight coverage         1.000000\n",
       "weight balance          1.000000\n",
       "weight fairness         1.000000\n",
       "weight streaks          1.000000\n",
       "weight spreads          1.000000\n",
       "best fitness           48.500000\n",
       "coverage penalty       27.000000\n",
       "balance penalty         4.333333\n",
       "fairness penalty        2.500000\n",
       "average penalty        61.901475\n",
       "time                30095.550289\n",
       "Name: 205, dtype: float64"
      ]
     },
     "execution_count": 7,
     "metadata": {},
     "output_type": "execute_result"
    }
   ],
   "source": [
    "most_time"
   ]
  },
  {
   "cell_type": "code",
   "execution_count": 8,
   "id": "fe4bfddf-50ea-4e72-9868-7aa1faf8ec31",
   "metadata": {},
   "outputs": [
    {
     "data": {
      "text/plain": [
       "iterations          2000.000000\n",
       "nb_parents           100.000000\n",
       "nb_best               10.000000\n",
       "crossover rate         0.200000\n",
       "mutation rate          0.400000\n",
       "weight coverage        1.000000\n",
       "weight balance         1.000000\n",
       "weight fairness        1.000000\n",
       "weight streaks         1.000000\n",
       "weight spreads         1.000000\n",
       "best fitness          33.083333\n",
       "coverage penalty       2.000000\n",
       "balance penalty        7.000000\n",
       "fairness penalty       1.166667\n",
       "average penalty       34.779167\n",
       "time                  41.380978\n",
       "Name: 20, dtype: float64"
      ]
     },
     "execution_count": 8,
     "metadata": {},
     "output_type": "execute_result"
    }
   ],
   "source": [
    "least_time"
   ]
  },
  {
   "cell_type": "code",
   "execution_count": 9,
   "id": "b345048c-6706-4e8e-ae8e-734d3c47db73",
   "metadata": {},
   "outputs": [
    {
     "data": {
      "text/plain": [
       "iterations          2000.000000\n",
       "nb_parents           500.000000\n",
       "nb_best              375.000000\n",
       "crossover rate         0.400000\n",
       "mutation rate          0.400000\n",
       "weight coverage        1.000000\n",
       "weight balance         1.000000\n",
       "weight fairness        1.000000\n",
       "weight streaks         1.000000\n",
       "weight spreads         1.000000\n",
       "best fitness          25.125000\n",
       "coverage penalty       2.666667\n",
       "balance penalty        0.666667\n",
       "fairness penalty       1.000000\n",
       "average penalty       26.200250\n",
       "time                 220.338073\n",
       "Name: 24, dtype: float64"
      ]
     },
     "execution_count": 9,
     "metadata": {},
     "output_type": "execute_result"
    }
   ],
   "source": [
    "df.iloc[df[\"best fitness\"].idxmin()]"
   ]
  },
  {
   "cell_type": "code",
   "execution_count": 10,
   "id": "73d5ab25-79c3-4c9b-a676-066bd55c85c8",
   "metadata": {},
   "outputs": [
    {
     "data": {
      "text/plain": [
       "iterations          2000.000000\n",
       "nb_parents           500.000000\n",
       "nb_best              250.000000\n",
       "crossover rate         0.800000\n",
       "mutation rate          0.400000\n",
       "weight coverage        1.000000\n",
       "weight balance         1.000000\n",
       "weight fairness        1.000000\n",
       "weight streaks         1.000000\n",
       "weight spreads         1.000000\n",
       "best fitness          25.291667\n",
       "coverage penalty       2.000000\n",
       "balance penalty        1.333333\n",
       "fairness penalty       1.333333\n",
       "average penalty       25.854500\n",
       "time                 220.096278\n",
       "Name: 201, dtype: float64"
      ]
     },
     "execution_count": 10,
     "metadata": {},
     "output_type": "execute_result"
    }
   ],
   "source": [
    "df.iloc[df[\"average penalty\"].idxmin()]"
   ]
  },
  {
   "cell_type": "code",
   "execution_count": 16,
   "id": "4c478325-4d9d-4e40-a4a5-d06673daf6a9",
   "metadata": {},
   "outputs": [
    {
     "data": {
      "text/plain": [
       "<seaborn.axisgrid.FacetGrid at 0x7fe3990643a0>"
      ]
     },
     "execution_count": 16,
     "metadata": {},
     "output_type": "execute_result"
    },
    {
     "data": {
      "image/png": "[encoded data removed]",
      "text/plain": [
       "<Figure size 360x360 with 1 Axes>"
      ]
     },
     "metadata": {
      "needs_background": "light"
     },
     "output_type": "display_data"
    }
   ],
   "source": [
    "sns.catplot(data=df, x=\"nb_parents\", y=\"best fitness\", kind=\"bar\", ci=None)"
   ]
  },
  {
   "cell_type": "code",
   "execution_count": 17,
   "id": "ad6651ff-0a3e-40ce-a14d-0d1d1a8fd3d3",
   "metadata": {},
   "outputs": [
    {
     "data": {
      "text/plain": [
       "<seaborn.axisgrid.FacetGrid at 0x7fe3992e6d90>"
      ]
     },
     "execution_count": 17,
     "metadata": {},
     "output_type": "execute_result"
    },
    {
     "data": {
      "image/png": "[encoded data removed]",
      "text/plain": [
       "<Figure size 360x360 with 1 Axes>"
      ]
     },
     "metadata": {
      "needs_background": "light"
     },
     "output_type": "display_data"
    }
   ],
   "source": [
    "sns.catplot(data=df, x=\"nb_parents\", y=\"average penalty\", kind=\"bar\", ci=None)"
   ]
  },
  {
   "cell_type": "code",
   "execution_count": 20,
   "id": "724f22c5-2098-4dd2-80a3-e201d7f0e912",
   "metadata": {},
   "outputs": [
    {
     "data": {
      "text/plain": [
       "<seaborn.axisgrid.FacetGrid at 0x7fe3682b8400>"
      ]
     },
     "execution_count": 20,
     "metadata": {},
     "output_type": "execute_result"
    },
    {
     "data": {
      "image/png": "[encoded data removed]",
      "text/plain": [
       "<Figure size 436.5x360 with 1 Axes>"
      ]
     },
     "metadata": {
      "needs_background": "light"
     },
     "output_type": "display_data"
    }
   ],
   "source": [
    "sns.catplot(data=df, x=\"crossover rate\", y=\"best fitness\", hue=\"mutation rate\",kind=\"bar\", ci=None)"
   ]
  },
  {
   "cell_type": "code",
   "execution_count": 19,
   "id": "1ea3ffd4-f223-4d7d-8cb8-2e1a2d32c81c",
   "metadata": {},
   "outputs": [
    {
     "data": {
      "text/plain": [
       "<seaborn.axisgrid.FacetGrid at 0x7fe3612816a0>"
      ]
     },
     "execution_count": 19,
     "metadata": {},
     "output_type": "execute_result"
    },
    {
     "data": {
      "image/png": "[encoded data removed]",
      "text/plain": [
       "<Figure size 360x360 with 1 Axes>"
      ]
     },
     "metadata": {
      "needs_background": "light"
     },
     "output_type": "display_data"
    }
   ],
   "source": [
    "sns.catplot(data=df, x=\"mutation rate\", y=\"best fitness\", kind=\"bar\", ci=None)"
   ]
  },
  {
   "cell_type": "code",
   "execution_count": 29,
   "id": "27dcfa10-b5fd-4829-92ea-c9ea79a3bd6d",
   "metadata": {},
   "outputs": [
    {
     "data": {
      "text/html": [
       "<div>\n",
       "<style scoped>\n",
       "    .dataframe tbody tr th:only-of-type {\n",
       "        vertical-align: middle;\n",
       "    }\n",
       "\n",
       "    .dataframe tbody tr th {\n",
       "        vertical-align: top;\n",
       "    }\n",
       "\n",
       "    .dataframe thead th {\n",
       "        text-align: right;\n",
       "    }\n",
       "</style>\n",
       "<table border=\"1\" class=\"dataframe\">\n",
       "  <thead>\n",
       "    <tr style=\"text-align: right;\">\n",
       "      <th></th>\n",
       "      <th>iteration</th>\n",
       "      <th>best</th>\n",
       "      <th>coverage</th>\n",
       "      <th>balance</th>\n",
       "      <th>fairness</th>\n",
       "      <th>avg</th>\n",
       "    </tr>\n",
       "  </thead>\n",
       "  <tbody>\n",
       "    <tr>\n",
       "      <th>0</th>\n",
       "      <td>1</td>\n",
       "      <td>925.958333</td>\n",
       "      <td>453.333333</td>\n",
       "      <td>372.666667</td>\n",
       "      <td>6.000000</td>\n",
       "      <td>1138.699083</td>\n",
       "    </tr>\n",
       "    <tr>\n",
       "      <th>1</th>\n",
       "      <td>2</td>\n",
       "      <td>917.000000</td>\n",
       "      <td>408.333333</td>\n",
       "      <td>410.333333</td>\n",
       "      <td>6.333333</td>\n",
       "      <td>1095.762583</td>\n",
       "    </tr>\n",
       "    <tr>\n",
       "      <th>2</th>\n",
       "      <td>3</td>\n",
       "      <td>917.000000</td>\n",
       "      <td>408.333333</td>\n",
       "      <td>410.333333</td>\n",
       "      <td>6.333333</td>\n",
       "      <td>1070.080083</td>\n",
       "    </tr>\n",
       "    <tr>\n",
       "      <th>3</th>\n",
       "      <td>4</td>\n",
       "      <td>875.125000</td>\n",
       "      <td>431.000000</td>\n",
       "      <td>345.666667</td>\n",
       "      <td>5.000000</td>\n",
       "      <td>1050.031500</td>\n",
       "    </tr>\n",
       "    <tr>\n",
       "      <th>4</th>\n",
       "      <td>5</td>\n",
       "      <td>875.125000</td>\n",
       "      <td>431.000000</td>\n",
       "      <td>345.666667</td>\n",
       "      <td>5.000000</td>\n",
       "      <td>1027.357833</td>\n",
       "    </tr>\n",
       "    <tr>\n",
       "      <th>...</th>\n",
       "      <td>...</td>\n",
       "      <td>...</td>\n",
       "      <td>...</td>\n",
       "      <td>...</td>\n",
       "      <td>...</td>\n",
       "      <td>...</td>\n",
       "    </tr>\n",
       "    <tr>\n",
       "      <th>1996</th>\n",
       "      <td>1997</td>\n",
       "      <td>25.125000</td>\n",
       "      <td>2.666667</td>\n",
       "      <td>0.666667</td>\n",
       "      <td>1.000000</td>\n",
       "      <td>26.229000</td>\n",
       "    </tr>\n",
       "    <tr>\n",
       "      <th>1997</th>\n",
       "      <td>1998</td>\n",
       "      <td>25.125000</td>\n",
       "      <td>2.666667</td>\n",
       "      <td>0.666667</td>\n",
       "      <td>1.000000</td>\n",
       "      <td>26.219667</td>\n",
       "    </tr>\n",
       "    <tr>\n",
       "      <th>1998</th>\n",
       "      <td>1999</td>\n",
       "      <td>25.125000</td>\n",
       "      <td>2.666667</td>\n",
       "      <td>0.666667</td>\n",
       "      <td>1.000000</td>\n",
       "      <td>26.339417</td>\n",
       "    </tr>\n",
       "    <tr>\n",
       "      <th>1999</th>\n",
       "      <td>2000</td>\n",
       "      <td>25.125000</td>\n",
       "      <td>2.666667</td>\n",
       "      <td>0.666667</td>\n",
       "      <td>1.000000</td>\n",
       "      <td>26.257667</td>\n",
       "    </tr>\n",
       "    <tr>\n",
       "      <th>2000</th>\n",
       "      <td>2001</td>\n",
       "      <td>25.125000</td>\n",
       "      <td>2.666667</td>\n",
       "      <td>0.666667</td>\n",
       "      <td>1.000000</td>\n",
       "      <td>26.200250</td>\n",
       "    </tr>\n",
       "  </tbody>\n",
       "</table>\n",
       "<p>2001 rows × 6 columns</p>\n",
       "</div>"
      ],
      "text/plain": [
       "      iteration        best    coverage     balance  fairness          avg\n",
       "0             1  925.958333  453.333333  372.666667  6.000000  1138.699083\n",
       "1             2  917.000000  408.333333  410.333333  6.333333  1095.762583\n",
       "2             3  917.000000  408.333333  410.333333  6.333333  1070.080083\n",
       "3             4  875.125000  431.000000  345.666667  5.000000  1050.031500\n",
       "4             5  875.125000  431.000000  345.666667  5.000000  1027.357833\n",
       "...         ...         ...         ...         ...       ...          ...\n",
       "1996       1997   25.125000    2.666667    0.666667  1.000000    26.229000\n",
       "1997       1998   25.125000    2.666667    0.666667  1.000000    26.219667\n",
       "1998       1999   25.125000    2.666667    0.666667  1.000000    26.339417\n",
       "1999       2000   25.125000    2.666667    0.666667  1.000000    26.257667\n",
       "2000       2001   25.125000    2.666667    0.666667  1.000000    26.200250\n",
       "\n",
       "[2001 rows x 6 columns]"
      ]
     },
     "execution_count": 29,
     "metadata": {},
     "output_type": "execute_result"
    }
   ],
   "source": [
    "df_best"
   ]
  },
  {
   "cell_type": "code",
   "execution_count": 24,
   "id": "73e1ca6a-93db-4c35-b383-de0647b48df1",
   "metadata": {},
   "outputs": [],
   "source": [
    "itrs_best = 2000\n",
    "parents_best = 500\n",
    "nb_best_best = 375\n",
    "cr_best = 0.4\n",
    "mr_best = 0.4\n",
    "\n",
    "df_best = gs.parse_results(get_file_from_params(itrs_best, parents_best, nb_best_best, cr_best, mr_best))"
   ]
  },
  {
   "cell_type": "code",
   "execution_count": 28,
   "id": "f83c6b2a-76b4-4060-9225-54a83d262667",
   "metadata": {},
   "outputs": [
    {
     "data": {
      "text/plain": [
       "<AxesSubplot:xlabel='iteration', ylabel='best'>"
      ]
     },
     "execution_count": 28,
     "metadata": {},
     "output_type": "execute_result"
    },
    {
     "data": {
      "image/png": "[encoded data removed]",
      "text/plain": [
       "<Figure size 432x288 with 1 Axes>"
      ]
     },
     "metadata": {
      "needs_background": "light"
     },
     "output_type": "display_data"
    }
   ],
   "source": [
    "sns.lineplot(data=df_best, x=\"iteration\", y=\"best\")"
   ]
  },
  {
   "cell_type": "code",
   "execution_count": 65,
   "id": "06c6d994-1f73-4033-8f7c-10fd7c47b0e0",
   "metadata": {},
   "outputs": [],
   "source": [
    "def get_convergence_best_fitness(df):\n",
    "    return find_convergence(list(df[\"best\"]))\n",
    "\n",
    "\n",
    "def find_convergence(lst):\n",
    "    last_i = lst[0]\n",
    "    counter = 0\n",
    "    current_index = 0\n",
    "    for i in lst[1:]:\n",
    "        if abs(last_i - i) < 1:\n",
    "            counter += 1\n",
    "            if(counter >= 25):\n",
    "                return current_index\n",
    "        else:\n",
    "            counter = 0\n",
    "        last_i = i\n",
    "        current_index += 1\n",
    "    return 1000\n"
   ]
  },
  {
   "cell_type": "code",
   "execution_count": 67,
   "id": "6e2042a3-b0d6-4cc2-909e-012edd575c0f",
   "metadata": {},
   "outputs": [
    {
     "data": {
      "text/plain": [
       "<seaborn.axisgrid.FacetGrid at 0x7fe389e38e20>"
      ]
     },
     "execution_count": 67,
     "metadata": {},
     "output_type": "execute_result"
    },
    {
     "data": {
      "image/png": "[encoded data removed]",
      "text/plain": [
       "<Figure size 436.5x360 with 1 Axes>"
      ]
     },
     "metadata": {
      "needs_background": "light"
     },
     "output_type": "display_data"
    }
   ],
   "source": [
    "sns.catplot(data=df, x=\"crossover rate\", y=\"convergence at\", hue=\"mutation rate\", kind=\"bar\", ci=None)"
   ]
  },
  {
   "cell_type": "code",
   "execution_count": null,
   "id": "b053297e-7ed5-4dd1-83a4-b230756ce120",
   "metadata": {},
   "outputs": [],
   "source": []
  }
 ],
 "metadata": {
  "kernelspec": {
   "display_name": "Python 3",
   "language": "python",
   "name": "python3"
  },
  "language_info": {
   "codemirror_mode": {
    "name": "ipython",
    "version": 3
   },
   "file_extension": ".py",
   "mimetype": "text/x-python",
   "name": "python",
   "nbconvert_exporter": "python",
   "pygments_lexer": "ipython3",
   "version": "3.9.5"
  }
 },
 "nbformat": 4,
 "nbformat_minor": 5
}
